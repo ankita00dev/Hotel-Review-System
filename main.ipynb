{
 "cells": [
  {
   "cell_type": "code",
   "execution_count": 1,
   "id": "fd9243bd-ff21-4b14-ba6a-f1454ac76432",
   "metadata": {},
   "outputs": [],
   "source": [
    "import pandas as pd\n",
    "import numpy as np\n",
    "import matplotlib.pyplot as plt\n",
    "import re\n",
    "import nltk\n",
    "from nltk.tokenize import word_tokenize\n",
    "from nltk.probability import FreqDist\n",
    "from nltk.corpus import stopwords"
   ]
  },
  {
   "cell_type": "code",
   "execution_count": 2,
   "id": "12b886bc-c3b8-43e3-a51c-500a1c071bf8",
   "metadata": {},
   "outputs": [
    {
     "data": {
      "text/html": [
       "<div>\n",
       "<style scoped>\n",
       "    .dataframe tbody tr th:only-of-type {\n",
       "        vertical-align: middle;\n",
       "    }\n",
       "\n",
       "    .dataframe tbody tr th {\n",
       "        vertical-align: top;\n",
       "    }\n",
       "\n",
       "    .dataframe thead th {\n",
       "        text-align: right;\n",
       "    }\n",
       "</style>\n",
       "<table border=\"1\" class=\"dataframe\">\n",
       "  <thead>\n",
       "    <tr style=\"text-align: right;\">\n",
       "      <th></th>\n",
       "      <th>Review</th>\n",
       "      <th>date</th>\n",
       "      <th>Location</th>\n",
       "    </tr>\n",
       "  </thead>\n",
       "  <tbody>\n",
       "    <tr>\n",
       "      <th>0</th>\n",
       "      <td>I was very impressed with the resort.\\n Great ...</td>\n",
       "      <td>2019-08-20</td>\n",
       "      <td>Sebastian</td>\n",
       "    </tr>\n",
       "    <tr>\n",
       "      <th>1</th>\n",
       "      <td>The rooms were nice the outside needs work als...</td>\n",
       "      <td>2019-08-20</td>\n",
       "      <td>Los Angeles</td>\n",
       "    </tr>\n",
       "    <tr>\n",
       "      <th>2</th>\n",
       "      <td>Great location! I have stayed at this hotel on...</td>\n",
       "      <td>2019-08-20</td>\n",
       "      <td>Georgia</td>\n",
       "    </tr>\n",
       "    <tr>\n",
       "      <th>3</th>\n",
       "      <td>The hotel was adequate for my stay. The strips...</td>\n",
       "      <td>2019-08-20</td>\n",
       "      <td>NaN</td>\n",
       "    </tr>\n",
       "    <tr>\n",
       "      <th>4</th>\n",
       "      <td>Great location, room was large and spacious. P...</td>\n",
       "      <td>2019-08-19</td>\n",
       "      <td>Palm Harbor</td>\n",
       "    </tr>\n",
       "    <tr>\n",
       "      <th>...</th>\n",
       "      <td>...</td>\n",
       "      <td>...</td>\n",
       "      <td>...</td>\n",
       "    </tr>\n",
       "    <tr>\n",
       "      <th>6443</th>\n",
       "      <td>·the staff were all so friendly. frank, the ch...</td>\n",
       "      <td>2019-07-12</td>\n",
       "      <td>United States of America</td>\n",
       "    </tr>\n",
       "    <tr>\n",
       "      <th>6444</th>\n",
       "      <td>·the internet barely worked or didn't work</td>\n",
       "      <td>2019-07-12</td>\n",
       "      <td>United States of America</td>\n",
       "    </tr>\n",
       "    <tr>\n",
       "      <th>6445</th>\n",
       "      <td>·the location was great.\\n \\n \\n \\n \\n ·the be...</td>\n",
       "      <td>2019-07-10</td>\n",
       "      <td>United States of America</td>\n",
       "    </tr>\n",
       "    <tr>\n",
       "      <th>6446</th>\n",
       "      <td>·we were early for check in and the staff was ...</td>\n",
       "      <td>2019-07-10</td>\n",
       "      <td>United States of America</td>\n",
       "    </tr>\n",
       "    <tr>\n",
       "      <th>6447</th>\n",
       "      <td>·staff, free coffee, location and activities.\\...</td>\n",
       "      <td>2019-07-10</td>\n",
       "      <td>United States of America</td>\n",
       "    </tr>\n",
       "  </tbody>\n",
       "</table>\n",
       "<p>6448 rows × 3 columns</p>\n",
       "</div>"
      ],
      "text/plain": [
       "                                                 Review       date  \\\n",
       "0     I was very impressed with the resort.\\n Great ... 2019-08-20   \n",
       "1     The rooms were nice the outside needs work als... 2019-08-20   \n",
       "2     Great location! I have stayed at this hotel on... 2019-08-20   \n",
       "3     The hotel was adequate for my stay. The strips... 2019-08-20   \n",
       "4     Great location, room was large and spacious. P... 2019-08-19   \n",
       "...                                                 ...        ...   \n",
       "6443  ·the staff were all so friendly. frank, the ch... 2019-07-12   \n",
       "6444         ·the internet barely worked or didn't work 2019-07-12   \n",
       "6445  ·the location was great.\\n \\n \\n \\n \\n ·the be... 2019-07-10   \n",
       "6446  ·we were early for check in and the staff was ... 2019-07-10   \n",
       "6447  ·staff, free coffee, location and activities.\\... 2019-07-10   \n",
       "\n",
       "                      Location  \n",
       "0                    Sebastian  \n",
       "1                  Los Angeles  \n",
       "2                      Georgia  \n",
       "3                          NaN  \n",
       "4                  Palm Harbor  \n",
       "...                        ...  \n",
       "6443  United States of America  \n",
       "6444  United States of America  \n",
       "6445  United States of America  \n",
       "6446  United States of America  \n",
       "6447  United States of America  \n",
       "\n",
       "[6448 rows x 3 columns]"
      ]
     },
     "execution_count": 2,
     "metadata": {},
     "output_type": "execute_result"
    }
   ],
   "source": [
    "data = pd.read_excel(\"Data Analyst - Test Data.xlsx\") \n",
    "data"
   ]
  },
  {
   "cell_type": "code",
   "execution_count": 3,
   "id": "2c02c6a7-8bc5-4595-9fbb-4fee0d49db4a",
   "metadata": {},
   "outputs": [
    {
     "data": {
      "text/plain": [
       "(6448, 3)"
      ]
     },
     "execution_count": 3,
     "metadata": {},
     "output_type": "execute_result"
    }
   ],
   "source": [
    "data.shape"
   ]
  },
  {
   "cell_type": "code",
   "execution_count": 4,
   "id": "5748bc50-0959-4ea1-8f11-3dcf65305b35",
   "metadata": {},
   "outputs": [
    {
     "data": {
      "text/html": [
       "<div>\n",
       "<style scoped>\n",
       "    .dataframe tbody tr th:only-of-type {\n",
       "        vertical-align: middle;\n",
       "    }\n",
       "\n",
       "    .dataframe tbody tr th {\n",
       "        vertical-align: top;\n",
       "    }\n",
       "\n",
       "    .dataframe thead th {\n",
       "        text-align: right;\n",
       "    }\n",
       "</style>\n",
       "<table border=\"1\" class=\"dataframe\">\n",
       "  <thead>\n",
       "    <tr style=\"text-align: right;\">\n",
       "      <th></th>\n",
       "      <th>Review</th>\n",
       "      <th>date</th>\n",
       "      <th>Location</th>\n",
       "    </tr>\n",
       "  </thead>\n",
       "  <tbody>\n",
       "    <tr>\n",
       "      <th>0</th>\n",
       "      <td>I was very impressed with the resort.\\n Great ...</td>\n",
       "      <td>2019-08-20</td>\n",
       "      <td>Sebastian</td>\n",
       "    </tr>\n",
       "    <tr>\n",
       "      <th>1</th>\n",
       "      <td>The rooms were nice the outside needs work als...</td>\n",
       "      <td>2019-08-20</td>\n",
       "      <td>Los Angeles</td>\n",
       "    </tr>\n",
       "    <tr>\n",
       "      <th>2</th>\n",
       "      <td>Great location! I have stayed at this hotel on...</td>\n",
       "      <td>2019-08-20</td>\n",
       "      <td>Georgia</td>\n",
       "    </tr>\n",
       "    <tr>\n",
       "      <th>3</th>\n",
       "      <td>The hotel was adequate for my stay. The strips...</td>\n",
       "      <td>2019-08-20</td>\n",
       "      <td>NaN</td>\n",
       "    </tr>\n",
       "    <tr>\n",
       "      <th>4</th>\n",
       "      <td>Great location, room was large and spacious. P...</td>\n",
       "      <td>2019-08-19</td>\n",
       "      <td>Palm Harbor</td>\n",
       "    </tr>\n",
       "  </tbody>\n",
       "</table>\n",
       "</div>"
      ],
      "text/plain": [
       "                                              Review       date     Location\n",
       "0  I was very impressed with the resort.\\n Great ... 2019-08-20    Sebastian\n",
       "1  The rooms were nice the outside needs work als... 2019-08-20  Los Angeles\n",
       "2  Great location! I have stayed at this hotel on... 2019-08-20      Georgia\n",
       "3  The hotel was adequate for my stay. The strips... 2019-08-20          NaN\n",
       "4  Great location, room was large and spacious. P... 2019-08-19  Palm Harbor"
      ]
     },
     "execution_count": 4,
     "metadata": {},
     "output_type": "execute_result"
    }
   ],
   "source": [
    "data.head()"
   ]
  },
  {
   "cell_type": "code",
   "execution_count": 5,
   "id": "288d4c8f-238b-49c3-801e-67b8ee8da3e5",
   "metadata": {},
   "outputs": [
    {
     "name": "stdout",
     "output_type": "stream",
     "text": [
      "<class 'pandas.core.frame.DataFrame'>\n",
      "RangeIndex: 6448 entries, 0 to 6447\n",
      "Data columns (total 3 columns):\n",
      " #   Column    Non-Null Count  Dtype         \n",
      "---  ------    --------------  -----         \n",
      " 0   Review    6393 non-null   object        \n",
      " 1   date      6448 non-null   datetime64[ns]\n",
      " 2   Location  1711 non-null   object        \n",
      "dtypes: datetime64[ns](1), object(2)\n",
      "memory usage: 151.3+ KB\n"
     ]
    }
   ],
   "source": [
    "data.info()"
   ]
  },
  {
   "cell_type": "code",
   "execution_count": 6,
   "id": "d60b0c52-fad5-4ae6-a384-c7cbe982ef07",
   "metadata": {},
   "outputs": [
    {
     "data": {
      "text/plain": [
       "Review      0.008530\n",
       "date        0.000000\n",
       "Location    0.734646\n",
       "dtype: float64"
      ]
     },
     "execution_count": 6,
     "metadata": {},
     "output_type": "execute_result"
    }
   ],
   "source": [
    "data.isnull().sum()/6448"
   ]
  },
  {
   "cell_type": "markdown",
   "id": "6c4a363e-1a90-432c-a4e2-0d982413858a",
   "metadata": {},
   "source": [
    "*73% of the location is null*"
   ]
  },
  {
   "cell_type": "code",
   "execution_count": 7,
   "id": "081c0a02-8784-4708-b8f7-f36762bcab08",
   "metadata": {},
   "outputs": [
    {
     "data": {
      "text/plain": [
       "count                             6448\n",
       "mean     2019-02-06 15:55:09.677419264\n",
       "min                2018-08-01 00:00:00\n",
       "25%                2018-11-10 00:00:00\n",
       "50%                2019-02-04 00:00:00\n",
       "75%                2019-05-01 00:00:00\n",
       "max                2019-08-20 00:00:00\n",
       "Name: date, dtype: object"
      ]
     },
     "execution_count": 7,
     "metadata": {},
     "output_type": "execute_result"
    }
   ],
   "source": [
    "data['date'].describe()"
   ]
  },
  {
   "cell_type": "code",
   "execution_count": 8,
   "id": "98dc6d71-8877-4022-91b7-3decdf79d15b",
   "metadata": {},
   "outputs": [
    {
     "data": {
      "text/plain": [
       "'I was very impressed with the resort.\\n Great staff at the main resort pool bar! We had a blast with them.\\n Clean, professional staff, great location and very reasonable!\\n  \\n  Read more\\n  Read less'"
      ]
     },
     "execution_count": 8,
     "metadata": {},
     "output_type": "execute_result"
    }
   ],
   "source": [
    "data['Review'][0]"
   ]
  },
  {
   "cell_type": "code",
   "execution_count": 9,
   "id": "61b96085-b405-4dae-a3bf-b6ff194f65a0",
   "metadata": {},
   "outputs": [
    {
     "data": {
      "text/plain": [
       "Timestamp('2018-08-01 00:00:00')"
      ]
     },
     "execution_count": 9,
     "metadata": {},
     "output_type": "execute_result"
    }
   ],
   "source": [
    "min_date = data['date'].min()\n",
    "min_date"
   ]
  },
  {
   "cell_type": "code",
   "execution_count": 10,
   "id": "cca06b53-0212-41f2-8c23-74f5b3665c37",
   "metadata": {},
   "outputs": [
    {
     "data": {
      "text/plain": [
       "Timestamp('2019-08-20 00:00:00')"
      ]
     },
     "execution_count": 10,
     "metadata": {},
     "output_type": "execute_result"
    }
   ],
   "source": [
    "max_date = data['date'].max()\n",
    "max_date"
   ]
  },
  {
   "cell_type": "markdown",
   "id": "40ccadb7-b5dc-4079-bb20-6b84af9cd032",
   "metadata": {},
   "source": [
    "*Data ranges from 2018 to 2019*"
   ]
  },
  {
   "cell_type": "code",
   "execution_count": 11,
   "id": "14b03c04-712f-4a47-a9f9-75d6098be691",
   "metadata": {},
   "outputs": [],
   "source": [
    "data.replace(regex=[r'Read'], value=' ', inplace=True)"
   ]
  },
  {
   "cell_type": "code",
   "execution_count": 12,
   "id": "c5d7898d-a2f2-4fed-911a-8d64ec0dfe03",
   "metadata": {},
   "outputs": [],
   "source": [
    "data.replace(regex=[r'more'], value=' ', inplace=True)"
   ]
  },
  {
   "cell_type": "code",
   "execution_count": 13,
   "id": "e9ed575b-8ecf-4c3f-8d02-5438c7b946e1",
   "metadata": {},
   "outputs": [],
   "source": [
    "data.replace(regex=[r'less'], value=' ', inplace=True)"
   ]
  },
  {
   "cell_type": "code",
   "execution_count": 14,
   "id": "dea881fa-d4f9-4b6e-95f8-8c5d686aade1",
   "metadata": {},
   "outputs": [
    {
     "data": {
      "text/plain": [
       "'I was very impressed with the resort.\\n Great staff at the main resort pool bar! We had a blast with them.\\n Clean, professional staff, great location and very reasonable!\\n  \\n     \\n     '"
      ]
     },
     "execution_count": 14,
     "metadata": {},
     "output_type": "execute_result"
    }
   ],
   "source": [
    "data['Review'][0]"
   ]
  },
  {
   "cell_type": "code",
   "execution_count": 15,
   "id": "cc329869-13a2-437f-888b-d1fd7c863bc1",
   "metadata": {},
   "outputs": [
    {
     "data": {
      "text/plain": [
       "Location\n",
       "United States of America    116\n",
       "New York                     34\n",
       "California                   19\n",
       "San Jose                     19\n",
       "Canada                       16\n",
       "Florida                      16\n",
       "United Kingdom               14\n",
       "New York, NY                 13\n",
       "Miami                        12\n",
       "Orlando                      12\n",
       "Name: count, dtype: int64"
      ]
     },
     "execution_count": 15,
     "metadata": {},
     "output_type": "execute_result"
    }
   ],
   "source": [
    "data['Location'].value_counts().nlargest(10)"
   ]
  },
  {
   "cell_type": "code",
   "execution_count": 16,
   "id": "bdd99690-d800-4c72-a454-0a3b4be105d5",
   "metadata": {},
   "outputs": [],
   "source": [
    "def ny(string):\n",
    "    string = string.replace('New York, NY ','New York')\n",
    "    return string"
   ]
  },
  {
   "cell_type": "code",
   "execution_count": 17,
   "id": "d3683e8f-c43c-40ee-a827-0c5adf0e1b11",
   "metadata": {},
   "outputs": [],
   "source": [
    "top = ['United States of America', 'New York', 'California', 'San Jose', 'Canada', 'Florida', 'United Kingdom', 'New York', 'Miami', 'Orlando']"
   ]
  },
  {
   "cell_type": "code",
   "execution_count": 18,
   "id": "ee449a98-1f37-4d3a-a4ef-a2a8fdaf12af",
   "metadata": {},
   "outputs": [],
   "source": [
    "new_data = data[data['Location'].isin(top)]"
   ]
  },
  {
   "cell_type": "code",
   "execution_count": 19,
   "id": "7c2a0b21-998b-4781-9a1f-fb2a48423081",
   "metadata": {},
   "outputs": [
    {
     "data": {
      "text/html": [
       "<div>\n",
       "<style scoped>\n",
       "    .dataframe tbody tr th:only-of-type {\n",
       "        vertical-align: middle;\n",
       "    }\n",
       "\n",
       "    .dataframe tbody tr th {\n",
       "        vertical-align: top;\n",
       "    }\n",
       "\n",
       "    .dataframe thead th {\n",
       "        text-align: right;\n",
       "    }\n",
       "</style>\n",
       "<table border=\"1\" class=\"dataframe\">\n",
       "  <thead>\n",
       "    <tr style=\"text-align: right;\">\n",
       "      <th></th>\n",
       "      <th>Review</th>\n",
       "      <th>date</th>\n",
       "      <th>Location</th>\n",
       "    </tr>\n",
       "  </thead>\n",
       "  <tbody>\n",
       "    <tr>\n",
       "      <th>10</th>\n",
       "      <td>Very clean and friendly and I love the locatio...</td>\n",
       "      <td>2019-08-19</td>\n",
       "      <td>California</td>\n",
       "    </tr>\n",
       "    <tr>\n",
       "      <th>62</th>\n",
       "      <td>I like everything in the hotel the personal ve...</td>\n",
       "      <td>2019-08-12</td>\n",
       "      <td>Miami</td>\n",
       "    </tr>\n",
       "    <tr>\n",
       "      <th>103</th>\n",
       "      <td>Need   staff at the chk in. My wait while my f...</td>\n",
       "      <td>2019-08-09</td>\n",
       "      <td>New York</td>\n",
       "    </tr>\n",
       "    <tr>\n",
       "      <th>148</th>\n",
       "      <td>I didn't like having trouble checking, and als...</td>\n",
       "      <td>2019-08-05</td>\n",
       "      <td>New York</td>\n",
       "    </tr>\n",
       "    <tr>\n",
       "      <th>175</th>\n",
       "      <td>Family and I stayed here for three nights. Rea...</td>\n",
       "      <td>2019-08-04</td>\n",
       "      <td>California</td>\n",
       "    </tr>\n",
       "  </tbody>\n",
       "</table>\n",
       "</div>"
      ],
      "text/plain": [
       "                                                Review       date    Location\n",
       "10   Very clean and friendly and I love the locatio... 2019-08-19  California\n",
       "62   I like everything in the hotel the personal ve... 2019-08-12       Miami\n",
       "103  Need   staff at the chk in. My wait while my f... 2019-08-09    New York\n",
       "148  I didn't like having trouble checking, and als... 2019-08-05    New York\n",
       "175  Family and I stayed here for three nights. Rea... 2019-08-04  California"
      ]
     },
     "execution_count": 19,
     "metadata": {},
     "output_type": "execute_result"
    }
   ],
   "source": [
    "new_data.head()"
   ]
  },
  {
   "cell_type": "code",
   "execution_count": 20,
   "id": "2aa09564-fc52-4de5-8f93-9075c43ad910",
   "metadata": {},
   "outputs": [
    {
     "data": {
      "text/html": [
       "<div>\n",
       "<style scoped>\n",
       "    .dataframe tbody tr th:only-of-type {\n",
       "        vertical-align: middle;\n",
       "    }\n",
       "\n",
       "    .dataframe tbody tr th {\n",
       "        vertical-align: top;\n",
       "    }\n",
       "\n",
       "    .dataframe thead th {\n",
       "        text-align: right;\n",
       "    }\n",
       "</style>\n",
       "<table border=\"1\" class=\"dataframe\">\n",
       "  <thead>\n",
       "    <tr style=\"text-align: right;\">\n",
       "      <th></th>\n",
       "      <th>index</th>\n",
       "      <th>Review</th>\n",
       "      <th>date</th>\n",
       "      <th>Location</th>\n",
       "    </tr>\n",
       "  </thead>\n",
       "  <tbody>\n",
       "    <tr>\n",
       "      <th>0</th>\n",
       "      <td>10</td>\n",
       "      <td>Very clean and friendly and I love the locatio...</td>\n",
       "      <td>2019-08-19</td>\n",
       "      <td>California</td>\n",
       "    </tr>\n",
       "    <tr>\n",
       "      <th>1</th>\n",
       "      <td>62</td>\n",
       "      <td>I like everything in the hotel the personal ve...</td>\n",
       "      <td>2019-08-12</td>\n",
       "      <td>Miami</td>\n",
       "    </tr>\n",
       "    <tr>\n",
       "      <th>2</th>\n",
       "      <td>103</td>\n",
       "      <td>Need   staff at the chk in. My wait while my f...</td>\n",
       "      <td>2019-08-09</td>\n",
       "      <td>New York</td>\n",
       "    </tr>\n",
       "    <tr>\n",
       "      <th>3</th>\n",
       "      <td>148</td>\n",
       "      <td>I didn't like having trouble checking, and als...</td>\n",
       "      <td>2019-08-05</td>\n",
       "      <td>New York</td>\n",
       "    </tr>\n",
       "    <tr>\n",
       "      <th>4</th>\n",
       "      <td>175</td>\n",
       "      <td>Family and I stayed here for three nights. Rea...</td>\n",
       "      <td>2019-08-04</td>\n",
       "      <td>California</td>\n",
       "    </tr>\n",
       "    <tr>\n",
       "      <th>...</th>\n",
       "      <td>...</td>\n",
       "      <td>...</td>\n",
       "      <td>...</td>\n",
       "      <td>...</td>\n",
       "    </tr>\n",
       "    <tr>\n",
       "      <th>253</th>\n",
       "      <td>6443</td>\n",
       "      <td>·the staff were all so friendly. frank, the ch...</td>\n",
       "      <td>2019-07-12</td>\n",
       "      <td>United States of America</td>\n",
       "    </tr>\n",
       "    <tr>\n",
       "      <th>254</th>\n",
       "      <td>6444</td>\n",
       "      <td>·the internet barely worked or didn't work</td>\n",
       "      <td>2019-07-12</td>\n",
       "      <td>United States of America</td>\n",
       "    </tr>\n",
       "    <tr>\n",
       "      <th>255</th>\n",
       "      <td>6445</td>\n",
       "      <td>·the location was great.\\n \\n \\n \\n \\n ·the be...</td>\n",
       "      <td>2019-07-10</td>\n",
       "      <td>United States of America</td>\n",
       "    </tr>\n",
       "    <tr>\n",
       "      <th>256</th>\n",
       "      <td>6446</td>\n",
       "      <td>·we were early for check in and the staff was ...</td>\n",
       "      <td>2019-07-10</td>\n",
       "      <td>United States of America</td>\n",
       "    </tr>\n",
       "    <tr>\n",
       "      <th>257</th>\n",
       "      <td>6447</td>\n",
       "      <td>·staff, free coffee, location and activities.\\...</td>\n",
       "      <td>2019-07-10</td>\n",
       "      <td>United States of America</td>\n",
       "    </tr>\n",
       "  </tbody>\n",
       "</table>\n",
       "<p>258 rows × 4 columns</p>\n",
       "</div>"
      ],
      "text/plain": [
       "     index                                             Review       date  \\\n",
       "0       10  Very clean and friendly and I love the locatio... 2019-08-19   \n",
       "1       62  I like everything in the hotel the personal ve... 2019-08-12   \n",
       "2      103  Need   staff at the chk in. My wait while my f... 2019-08-09   \n",
       "3      148  I didn't like having trouble checking, and als... 2019-08-05   \n",
       "4      175  Family and I stayed here for three nights. Rea... 2019-08-04   \n",
       "..     ...                                                ...        ...   \n",
       "253   6443  ·the staff were all so friendly. frank, the ch... 2019-07-12   \n",
       "254   6444         ·the internet barely worked or didn't work 2019-07-12   \n",
       "255   6445  ·the location was great.\\n \\n \\n \\n \\n ·the be... 2019-07-10   \n",
       "256   6446  ·we were early for check in and the staff was ... 2019-07-10   \n",
       "257   6447  ·staff, free coffee, location and activities.\\... 2019-07-10   \n",
       "\n",
       "                     Location  \n",
       "0                  California  \n",
       "1                       Miami  \n",
       "2                    New York  \n",
       "3                    New York  \n",
       "4                  California  \n",
       "..                        ...  \n",
       "253  United States of America  \n",
       "254  United States of America  \n",
       "255  United States of America  \n",
       "256  United States of America  \n",
       "257  United States of America  \n",
       "\n",
       "[258 rows x 4 columns]"
      ]
     },
     "execution_count": 20,
     "metadata": {},
     "output_type": "execute_result"
    }
   ],
   "source": [
    "new_data = new_data.reset_index()\n",
    "new_data"
   ]
  },
  {
   "cell_type": "code",
   "execution_count": 21,
   "id": "ce4956d3-157a-4c83-9eb0-320e86ae566d",
   "metadata": {},
   "outputs": [
    {
     "data": {
      "text/plain": [
       "Location\n",
       "United States of America    116\n",
       "New York                     34\n",
       "California                   19\n",
       "San Jose                     19\n",
       "Florida                      16\n",
       "Canada                       16\n",
       "United Kingdom               14\n",
       "Miami                        12\n",
       "Orlando                      12\n",
       "Name: count, dtype: int64"
      ]
     },
     "execution_count": 21,
     "metadata": {},
     "output_type": "execute_result"
    }
   ],
   "source": [
    "new_data['Location'].value_counts()"
   ]
  },
  {
   "cell_type": "markdown",
   "id": "6b6e5a2d-9bb6-431d-a848-c59129088906",
   "metadata": {},
   "source": [
    "*Most of the people travel to United states of america the most*"
   ]
  },
  {
   "cell_type": "code",
   "execution_count": 23,
   "id": "5ac87653-db3c-4f8a-b3e0-12dd038c854b",
   "metadata": {},
   "outputs": [
    {
     "data": {
      "image/png": "[encoded data removed]",
      "text/plain": [
       "<Figure size 1500x1000 with 1 Axes>"
      ]
     },
     "metadata": {},
     "output_type": "display_data"
    }
   ],
   "source": [
    "data = data[data['Review'].notna()]\n",
    "data.Review.replace({r'\\n\\nRead more\\nRead less':' '}, regex=True, inplace=True)\n",
    "data.Review.replace({r'\\n':' '}, regex=True, inplace=True)\n",
    "data.Review.replace({r'[?!@#$.,]':' '}, regex=True, inplace=True)\n",
    "data.Review.replace({r'[^\\x00-\\x7F]+':' '}, regex=True, inplace=True)\n",
    "data.Review=data.Review.str.lower()\n",
    "\n",
    "stop_words = set(stopwords.words('english'))\n",
    "data['rm_stopwords'] = data['Review'].apply(lambda x: ' '.join([word for word in x.split() if word not in (stop_words)]))\n",
    "\n",
    "wordsdata=[]\n",
    "j=0\n",
    "for i in data['rm_stopwords']:\n",
    "    wordsdata.extend(i.split())\n",
    "    \n",
    "fdistdata = FreqDist(wordsdata)\n",
    "\n",
    "dict_final_data={k: v for k, v in sorted(fdistdata.items(), key=lambda item: item[1])}\n",
    "plt.figure(figsize=(15,10))\n",
    "names = list(dict_final_data.keys())[-20:]\n",
    "values = list(dict_final_data.values())[-20:]\n",
    "plt.bar(range(20), values, tick_label=names)\n",
    "plt.show()"
   ]
  },
  {
   "cell_type": "code",
   "execution_count": 24,
   "id": "6d836c87-5a41-4f3f-9bf1-103102fb9d20",
   "metadata": {},
   "outputs": [
    {
     "data": {
      "text/plain": [
       "0    Very clean and friendly and I love the locatio...\n",
       "1    I like everything in the hotel the personal ve...\n",
       "2    Need   staff at the chk in. My wait while my f...\n",
       "3    I didn't like having trouble checking, and als...\n",
       "4    Family and I stayed here for three nights. Rea...\n",
       "Name: Review, dtype: object"
      ]
     },
     "execution_count": 24,
     "metadata": {},
     "output_type": "execute_result"
    }
   ],
   "source": [
    "new_data.Review.head()"
   ]
  },
  {
   "cell_type": "code",
   "execution_count": 25,
   "id": "8749c80a-84f9-498f-9cd6-204a90e9e382",
   "metadata": {},
   "outputs": [
    {
     "data": {
      "image/png": "[encoded data removed]",
      "text/plain": [
       "<Figure size 1500x1000 with 1 Axes>"
      ]
     },
     "metadata": {},
     "output_type": "display_data"
    }
   ],
   "source": [
    "new_data.Review.replace({r'\\n\\nRead more\\nRead less':''}, regex=True, inplace=True)\n",
    "new_data.Review.replace({r'\\n':''}, regex=True, inplace=True)\n",
    "new_data.Review.replace({r'[?!@#$.,]':''}, regex=True, inplace=True)\n",
    "new_data.Review.replace({r'[^\\x00-\\x7F]+':''}, regex=True, inplace=True)\n",
    "new_data.Review=new_data.Review.str.lower()\n",
    "\n",
    "stop_words = set(stopwords.words('english'))\n",
    "new_data['rm_stopwords'] = new_data['Review'].apply(lambda x: ' '.join([word for word in x.split() if word not in (stop_words)]))\n",
    "\n",
    "words=[]\n",
    "j=0\n",
    "for i in new_data['rm_stopwords']:\n",
    "    words.extend(i.split())\n",
    "    \n",
    "fdist = FreqDist(words)\n",
    "\n",
    "dict_final={k: v for k, v in sorted(fdist.items(), key=lambda item: item[1])}\n",
    "\n",
    "plt.figure(figsize=(15,10))\n",
    "names = list(dict_final.keys())[-15:]\n",
    "values = list(dict_final.values())[-15:]\n",
    "plt.bar(range(15), values, tick_label=names)\n",
    "plt.show()"
   ]
  },
  {
   "cell_type": "markdown",
   "id": "ae531857-94b2-45e0-9b4c-a09c1735b0ba",
   "metadata": {},
   "source": [
    "*People talk about room, staff and hotel the most*"
   ]
  },
  {
   "cell_type": "code",
   "execution_count": 26,
   "id": "dade82e1-1c14-4a47-80c5-a4d9d1f668aa",
   "metadata": {},
   "outputs": [
    {
     "name": "stdout",
     "output_type": "stream",
     "text": [
      "Location                          \n",
      "United States of America  room        55\n",
      "                          staff       40\n",
      "                          location    37\n",
      "                          hotel       23\n",
      "                          service     23\n",
      "                          good        22\n",
      "                          clean       21\n",
      "                          great       18\n",
      "                          pool        17\n",
      "                          friendly    16\n",
      "Name: rm_stopwords, dtype: int64\n",
      "Location            \n",
      "New York  room          20\n",
      "          hotel         19\n",
      "          nice          12\n",
      "          staff         11\n",
      "          front         11\n",
      "          everything    10\n",
      "          stay          10\n",
      "          like           9\n",
      "          one            9\n",
      "          desk           9\n",
      "Name: rm_stopwords, dtype: int64\n",
      "Location            \n",
      "California  hotel       14\n",
      "            nice        11\n",
      "            room        11\n",
      "            clean        7\n",
      "            staff        6\n",
      "            night        6\n",
      "            could        6\n",
      "            towels       5\n",
      "            location     4\n",
      "            would        4\n",
      "Name: rm_stopwords, dtype: int64\n",
      "Location          \n",
      "San Jose  nice        13\n",
      "          room         8\n",
      "          staff        8\n",
      "          property     7\n",
      "          clean        6\n",
      "          pictured     6\n",
      "          stay         5\n",
      "          friendly     5\n",
      "          check        4\n",
      "          would        4\n",
      "Name: rm_stopwords, dtype: int64\n",
      "Location            \n",
      "Canada    room          10\n",
      "          great          7\n",
      "          location       6\n",
      "          airport        6\n",
      "          hotel          5\n",
      "          staff          5\n",
      "          nice           5\n",
      "          restaurant     5\n",
      "          door           5\n",
      "          time           4\n",
      "Name: rm_stopwords, dtype: int64\n",
      "Location         \n",
      "Florida   room       11\n",
      "          staff       6\n",
      "          nice        4\n",
      "          clean       4\n",
      "          rooms       4\n",
      "          never       4\n",
      "          us          4\n",
      "          always      4\n",
      "          time        4\n",
      "          wyndham     4\n",
      "Name: rm_stopwords, dtype: int64\n",
      "Location                \n",
      "United Kingdom  hotel       6\n",
      "                room        6\n",
      "                great       6\n",
      "                location    5\n",
      "                airport     5\n",
      "                rooms       4\n",
      "                wasnt       4\n",
      "                good        4\n",
      "                dirty       4\n",
      "                (           4\n",
      "Name: rm_stopwords, dtype: int64\n",
      "Location            \n",
      "New York  room          20\n",
      "          hotel         19\n",
      "          nice          12\n",
      "          staff         11\n",
      "          front         11\n",
      "          everything    10\n",
      "          stay          10\n",
      "          like           9\n",
      "          one            9\n",
      "          desk           9\n",
      "Name: rm_stopwords, dtype: int64\n",
      "Location              \n",
      "Miami     room            8\n",
      "          like            4\n",
      "          staff           4\n",
      "          hotel           3\n",
      "          good            3\n",
      "          disney          3\n",
      "          nice            3\n",
      "          one             3\n",
      "          day             3\n",
      "          housekeeping    3\n",
      "Name: rm_stopwords, dtype: int64\n",
      "Location          \n",
      "Orlando   room        11\n",
      "          hotel        5\n",
      "          nice         4\n",
      "          pool         4\n",
      "          parking      3\n",
      "          property     3\n",
      "          's           3\n",
      "          pools        3\n",
      "          dirty        3\n",
      "          lot          3\n",
      "Name: rm_stopwords, dtype: int64\n"
     ]
    }
   ],
   "source": [
    "for i in top:\n",
    "    loc=new_data[new_data['Location']==i]\n",
    "    print(loc.groupby('Location')['rm_stopwords'].apply(lambda x: nltk.FreqDist(nltk.tokenize.word_tokenize(' '.join(x)))).nlargest(10))"
   ]
  },
  {
   "cell_type": "code",
   "execution_count": 27,
   "id": "95fe9877-d4e3-447a-acee-fed14fc1ea66",
   "metadata": {},
   "outputs": [],
   "source": [
    "new_data['date1'] = new_data['date'].copy()"
   ]
  },
  {
   "cell_type": "code",
   "execution_count": 28,
   "id": "2ac05158-72dc-48a0-bb74-5939634dd850",
   "metadata": {},
   "outputs": [],
   "source": [
    "def year(string):\n",
    "    year=string.year\n",
    "    return year"
   ]
  },
  {
   "cell_type": "code",
   "execution_count": 29,
   "id": "3fea5fdd-87ec-4dfb-a409-baa3551f44e9",
   "metadata": {},
   "outputs": [],
   "source": [
    "new_data['year']=new_data['date1'].apply(year)"
   ]
  },
  {
   "cell_type": "code",
   "execution_count": 30,
   "id": "7b9120b3-26ce-4a6b-bceb-1ad977195b48",
   "metadata": {},
   "outputs": [],
   "source": [
    "years = [2018, 2019]"
   ]
  },
  {
   "cell_type": "code",
   "execution_count": 31,
   "id": "d14b242a-7733-4603-bd39-22b0f1906ee8",
   "metadata": {},
   "outputs": [
    {
     "name": "stdout",
     "output_type": "stream",
     "text": [
      "year          \n",
      "2018  room        54\n",
      "      hotel       41\n",
      "      nice        37\n",
      "      staff       28\n",
      "      clean       23\n",
      "      great       18\n",
      "      stay        18\n",
      "      rooms       15\n",
      "      location    15\n",
      "      front       15\n",
      "Name: rm_stopwords, dtype: int64\n",
      "year          \n",
      "2019  room        86\n",
      "      staff       57\n",
      "      location    49\n",
      "      hotel       39\n",
      "      great       33\n",
      "      clean       31\n",
      "      good        31\n",
      "      service     30\n",
      "      one         29\n",
      "      nice        29\n",
      "Name: rm_stopwords, dtype: int64\n"
     ]
    }
   ],
   "source": [
    "for i in years:\n",
    "    year=new_data[new_data['year']==i]\n",
    "    print(year.groupby('year')['rm_stopwords'].apply(lambda x: nltk.FreqDist(nltk.tokenize.word_tokenize(' '.join(x)))).nlargest(10))"
   ]
  },
  {
   "cell_type": "markdown",
   "id": "d46950d3-ca13-4104-a578-fcbc353606b6",
   "metadata": {},
   "source": [
    "*In the year 2018 people talk about room, hotel the most*"
   ]
  },
  {
   "cell_type": "markdown",
   "id": "cbb38278-6c0c-4826-864f-278d65cf4291",
   "metadata": {},
   "source": [
    "*In the year 2019 people talk about room, staff and location the most*"
   ]
  },
  {
   "cell_type": "code",
   "execution_count": null,
   "id": "60c8869e-2ebc-46da-b4b7-6affa8bc2183",
   "metadata": {},
   "outputs": [],
   "source": []
  }
 ],
 "metadata": {
  "kernelspec": {
   "display_name": "Python 3 (ipykernel)",
   "language": "python",
   "name": "python3"
  },
  "language_info": {
   "codemirror_mode": {
    "name": "ipython",
    "version": 3
   },
   "file_extension": ".py",
   "mimetype": "text/x-python",
   "name": "python",
   "nbconvert_exporter": "python",
   "pygments_lexer": "ipython3",
   "version": "3.11.7"
  }
 },
 "nbformat": 4,
 "nbformat_minor": 5
}
